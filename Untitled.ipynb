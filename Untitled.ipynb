{
 "cells": [
  {
   "cell_type": "markdown",
   "id": "b0d44586",
   "metadata": {},
   "source": [
    "## Analysis of Revenue Earned from Apps:\n",
    "* The company develops applications which are downloaded for free on Google and Apple Store. The company earns revenue from in-app ads.\n",
    "* This project will aim at analyzing how each app contributes to the revenue of the company."
   ]
  },
  {
   "cell_type": "code",
   "execution_count": 1,
   "id": "67039250",
   "metadata": {},
   "outputs": [
    {
     "name": "stdout",
     "output_type": "stream",
     "text": [
      "['App', 'Category', 'Rating', 'Reviews', 'Size', 'Installs', 'Type', 'Price', 'Content Rating', 'Genres', 'Last Updated', 'Current Ver', 'Android Ver']\n"
     ]
    }
   ],
   "source": [
    "google = open('googleplaystore.csv')\n",
    "from csv import reader\n",
    "google = reader(google)\n",
    "google_list = list(google)\n",
    "google_header = google_list[0]\n",
    "android = google_list[1:]\n",
    "print(google_header)"
   ]
  },
  {
   "cell_type": "code",
   "execution_count": 2,
   "id": "98e22964",
   "metadata": {},
   "outputs": [
    {
     "name": "stdout",
     "output_type": "stream",
     "text": [
      "['id', 'track_name', 'size_bytes', 'currency', 'price', 'rating_count_tot', 'rating_count_ver', 'user_rating', 'user_rating_ver', 'ver', 'cont_rating', 'prime_genre', 'sup_devices.num', 'ipadSc_urls.num', 'lang.num', 'vpp_lic']\n"
     ]
    }
   ],
   "source": [
    "apple_csv = open('AppleStore.csv')\n",
    "apple_read = reader(apple_csv) ##read/parse the csv_object\n",
    "apple_list = list(apple_read)\n",
    "ios_header = apple_list[0]\n",
    "ios = apple_list[1:]\n",
    "\n",
    "print(ios_header)"
   ]
  },
  {
   "cell_type": "markdown",
   "id": "ddaae16c",
   "metadata": {},
   "source": [
    "### Create a function explore_data to use in checking "
   ]
  }
 ],
 "metadata": {
  "kernelspec": {
   "display_name": "Python 3 (ipykernel)",
   "language": "python",
   "name": "python3"
  },
  "language_info": {
   "codemirror_mode": {
    "name": "ipython",
    "version": 3
   },
   "file_extension": ".py",
   "mimetype": "text/x-python",
   "name": "python",
   "nbconvert_exporter": "python",
   "pygments_lexer": "ipython3",
   "version": "3.11.4"
  }
 },
 "nbformat": 4,
 "nbformat_minor": 5
}
